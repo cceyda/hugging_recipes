{
 "cells": [
  {
   "cell_type": "code",
   "execution_count": null,
   "metadata": {},
   "outputs": [],
   "source": [
    "from transformers import pipeline, set_seed, BloomTokenizerFast, BloomForTokenClassification\n",
    "\n",
    "model_name='bigscience/bloom-1b3'\n",
    "generator_bloom = pipeline('text-generation', model=model_name)"
   ]
  },
  {
   "cell_type": "code",
   "execution_count": null,
   "metadata": {},
   "outputs": [],
   "source": [
    "text = \"Translations of common expressions from English to Korean \"\n",
    "seed = 10\n",
    "\n",
    "kwargs = {\n",
    "    \"max_length\": 200,\n",
    "    \"do_sample\": True,\n",
    "    \"top_k\": 30,\n",
    "    \"top_p\": 0.9,\n",
    "    \"temperature\": 0.3,\n",
    "    \"repetition_penalty\": 2.0    \n",
    "}\n",
    "\n",
    "set_seed(seed)\n",
    "result_bloom = generator_bloom(text, **kwargs)\n",
    "print(result_bloom[0][\"generated_text\"])"
   ]
  }
 ],
 "metadata": {
  "language_info": {
   "name": "python"
  },
  "orig_nbformat": 4
 },
 "nbformat": 4,
 "nbformat_minor": 2
}
