{
 "cells": [
  {
   "cell_type": "code",
   "execution_count": null,
   "id": "ea24c8db-c2ef-43d0-b4cc-d87a32ad7f8f",
   "metadata": {},
   "outputs": [],
   "source": [
    "!pip install transformers"
   ]
  },
  {
   "cell_type": "code",
   "execution_count": null,
   "id": "70e1ddf0-ba7a-49ba-9754-f00806197dce",
   "metadata": {},
   "outputs": [],
   "source": [
    "from PIL import Image\n",
    "import requests\n",
    "import torch\n",
    "\n",
    "from transformers import CLIPProcessor, CLIPModel\n",
    "import torch.nn.functional as F\n",
    "device = \"cuda:0\" if torch.cuda.is_available() else \"cpu\"\n",
    "model = CLIPModel.from_pretrained(\"openai/clip-vit-base-patch32\")\n",
    "processor = CLIPProcessor.from_pretrained(\"openai/clip-vit-base-patch32\")\n",
    "model.to(device)\n",
    "\n",
    "def sim_score(images,prompts,weights):\n",
    "    inputs = processor(text=prompt, images=images, return_tensors=\"pt\", padding=True)\n",
    "    inputs = {k: v.to(device) for k, v in inputs.items()}\n",
    "\n",
    "    outputs = model(**inputs)\n",
    "    image_embed=outputs.image_embeds\n",
    "    target_embeds=outputs.text_embeds\n",
    "    # print(image_embed.shape)\n",
    "    # print(target_embeds.shape)\n",
    "    with torch.no_grad():\n",
    "        input_normed = F.normalize(image_embed, dim=1)\n",
    "        loss = torch.zeros(image_embed.shape[0]).to(device)\n",
    "        for text_embed, weight in zip(target_embeds, weights):#can do without for loop but too lazy to change\n",
    "            embed_normed = F.normalize(text_embed, dim=0)\n",
    "            dists = input_normed.sub(embed_normed).norm(dim=1).div(2).arcsin().pow(2).mul(2) # Squared Great Circle Distance\n",
    "            loss += dists*weight\n",
    "        return loss"
   ]
  },
  {
   "cell_type": "code",
   "execution_count": null,
   "id": "be73c007-3d55-4fc3-995e-a7f279d24ab1",
   "metadata": {
    "colab": {
     "base_uri": "https://localhost:8080/",
     "height": 744,
     "referenced_widgets": [
      "28694c3917684d87bddf87fa8ea74c56",
      "f1853c2af79647b58575555c0d3c30e6",
      "45af3ecf63104c12afe0263977507ae7",
      "782e548bd7c5460b9e172a3a69f2adf9",
      "9ce589da24d74f9d84b5e773a72eb397",
      "102dec43aaab4279a693d39156131b53",
      "48ffa82bb6d24b468fab846b58baefb7",
      "9261033f4ecc4ba985850bc688d9ba15",
      "67839993fadf4380996da490896309e3",
      "9baf1d8bb03946e99a469db762600f86",
      "5f4bbc93f9934dc09ddb5079abd28dca",
      "ea79e3d82005447fad34868bebe4e1aa",
      "962553d2092a44c3b1e05af456c814f2",
      "fc051e482d9c41afa771643b80036ef4",
      "2332f97b079b44e6b6678ce5811c6dde",
      "9b51a0ac22324ce39cfafc41863b9f8d",
      "398011fe190b4ceba474d5af2f443373",
      "23b6c183ebf44974b05fd61d7e6d75c6",
      "49d024ec91664180a1b1533c6b7a70d1",
      "493bfe6220bc49ddbb3861f660f4106b",
      "badec54023db481a988388714e008611",
      "db38087eaf6d47888a2ec3c6149027c3",
      "69511667647143abb179abd05dfddb02",
      "3833952ae80540a4b53033cbf8490a06",
      "716285b6691541e8b56dda41bcc755f2",
      "3c2a7fbac85b48669bd214f1368bcd91",
      "01a3ebb6a651465e90c30c35960d6502",
      "c57c5c09d6724f899f1ab75f929acfcc",
      "70a0adefe76341dc8092de4e0bb4ebef",
      "e9e3a5b9e87e4a2db298a096389e1dfc",
      "752b3c133bd947a0887f08374b717066",
      "3ebfaf27708a49b6a18b22f54e55d3f6",
      "a641aacf152a49ca91549489e32f998f",
      "e72ed2d546db40c0b645ff28c5694740",
      "f14d4e8f7a1440b8b1c147d07851d83b",
      "21b1494d8bd04fd1a567dcf214b4dfad",
      "beb2282aed8e450aa057f407b6c631a9",
      "791158d5669d411297ab5ccd4f3f5683",
      "4c03f514b719455d884b14f828c87eb4",
      "959bdeb9493b48e1a65886d86bfae9eb",
      "e095c9a4d09f4801884d8ca51318d04a",
      "427e86a210e74c0f88bde6e6b1cc461f",
      "c3ed103d231947608e2589196977d74a",
      "02f0a8c4d85a42d4b1fdbf22e4f1676b",
      "3491ac9358334b35ab97b29da4597e82",
      "22a0335c3e3045c28d75577406f4bff3",
      "38ab798b89224d92a0f24cfd2a235095",
      "8c6c90c4e0564fc29d226a646a62ed7b",
      "b5470543790e44f184aeac2255c261d4",
      "3061dbc233f949bda7c6b141f4ea8153",
      "7fc3e79f149b42cfbf506e1f4919a6b0",
      "8026f76c76664d5c8d65966b048cf300",
      "88a15dc04c7b4cb6adef11f5b959215c",
      "c2f37d5f09cd4c86846bfae6fa98d71d",
      "2e42ba254b2c4fb68a7021df41818cb6",
      "4cd0f3e746474f159455ce47851d88c1",
      "74aca13466684861a3796aad52dca834",
      "1d653d5ec443461f984777d39fa11d17",
      "e208bf534200482f89b6035d959c7936",
      "6c125232b9bd4464b1a2679460b7dd27",
      "dfd09eac8ac34595988ab71611c02bd9",
      "bac875da390d4d1da269783d151a3825",
      "cf24048b563e4e2394539a1ea881f785",
      "98d66e1367c4486299991ad3b203c6f2",
      "15489b6fdb704c73aedb44a7e0b87e7d",
      "c2021f2c066048e9ad636905c5e578ee",
      "59386552b8d04bfbb734484f6a5ed6d6",
      "bbd34aede60d433fb3e56d17ce06033c",
      "ba4c15f2802444108d219e85e94081be",
      "71756523d9174e23bb8d56b66d8259b6",
      "3823630e08574564a83a1b35030c0254",
      "a5a899ea34314e59b4b6864203f11065",
      "d4110849a3fc40ca81b4b33006ddfec2",
      "ff64502a822c400cacd02703cb4498af",
      "94ec11d18d4347e1a2ec602b6f7890c3",
      "51b15b3eead046f0a2eedc3d270ec498",
      "62ee1337f0b74bfa9c4be665c20c84d0",
      "b7e4b55952174a669b5c8a3b20e38dd5",
      "22e2a008749840928c5cff29b214cda0",
      "e7700e66069c44dfad9452bb9592d85b",
      "083f73e5d19447c7b679a939cf589d7e",
      "a862cf8320954262bf4cec2fe1f6d2b1",
      "deb857e2003f4fa4954a38c696a52690",
      "d148f456bd8a4c4f8e897021683a094d",
      "913325d5a4244ab19d3412e144401f36",
      "f817d7827fc947cd9a2af6dd4d715d08",
      "af5d03ff6f9544ba828de5e732f27747",
      "8dc1f0ffed8b4802857fa46ec5d052a0",
      "4c7f2c302b6246fcb8b607e4909dde9a",
      "d7fc8ab7802c4a04afed402d75beba88",
      "e6b903da6e68443a96effc78ac86beec",
      "b81d0391472d4d2ea896840843cf2d33",
      "87792ab1aaf24d2a972941c873e2bf3f",
      "6ab67c41bab04a46873474cb07fa8970",
      "5774c66e959f48efb0f7920f1cb0f246",
      "da670d665ae8425caf8059017300b845",
      "c9b3029b1f6d40caa3a58bc06a7fa20c",
      "34bf4d5c66cb42ca86214ce5a29bf688",
      "05643174dda146889450db334d674028",
      "58415403bd81494a86cfb056fcec83c4",
      "0ba0dad778f1494fb57a32695f787387",
      "69b0965edcc545c9a50b11f738c993fc",
      "d286861dde2849d188c9b13b12a20306",
      "baf08b8c762548b8befd998a71b78347",
      "5fe61bceb2a14efda141bf802ca84cdf",
      "83549d2f83e34fd6a4fe2c8cdde9a614",
      "ef1d01c70c054b97889f28eedd253138",
      "5ee8a7d1295d49689f49009121827535",
      "6cb3c2f621e748f49e4aea3d7143d45f",
      "6a5c89be0ccd4b1c9019739fa0ea324e",
      "96cd4c1afe684b04ac4e127463ec6d32",
      "c002c92ad4554b4786ef2995d62e7c0f",
      "756757c418c343198d34d431fc27343c",
      "eac8f090cbe84f85a5da983756475c23",
      "fa07f347c0a842238ddc51efca58ce8a",
      "e8b32559ac034199ae88297bc588f577",
      "409693b8b4b147f3a291240b18a17f6a",
      "686656a19b784af28b215b53f7a1cc34",
      "06378e74e23a4aef87019a155e745003",
      "f933384576934712b1513c4b1491e08d",
      "442f12444a2949e9adb008bd4f08ac7d"
     ]
    },
    "id": "vEmPk7ApRX7B",
    "outputId": "498bcca8-6d13-4b7f-ec2a-bd208cbd35f2"
   },
   "outputs": [],
   "source": [
    "from datasets import load_dataset\n",
    "from pathlib import Path\n",
    "\n",
    "dataset = load_dataset(\"ceyda/smithsonian_butterflies\")\n",
    "\n",
    "print(dataset)"
   ]
  },
  {
   "cell_type": "code",
   "execution_count": null,
   "id": "47ba0cde-efcd-4b1f-b4fa-3144ac52e7c5",
   "metadata": {},
   "outputs": [],
   "source": [
    "# Optional data processing stuff\n",
    "import os\n",
    "def bg(ex):\n",
    "    ex[\"image\"]=Image.open(f\"./data_smith_higres/transparent/{ex['image_hash']}.png\")\n",
    "    return ex\n",
    "dataset=dataset.filter(lambda ex: os.path.exists(f\"./data_smith_higres/transparent/{ex['image_hash']}.png\"))\n",
    "dataset=dataset.map(bg)\n",
    "dataset=dataset[\"train\"]"
   ]
  },
  {
   "cell_type": "code",
   "execution_count": null,
   "id": "792fbbf0-1571-4a17-a2b5-a7c6301d851c",
   "metadata": {
    "colab": {
     "base_uri": "https://localhost:8080/"
    },
    "id": "NJycXuvWRknr",
    "outputId": "3bdeba2b-7c15-4e66-bc83-a5be620a1373"
   },
   "outputs": [],
   "source": [
    "# We can vary this to find what works best\n",
    "prompt = ['pretty butterfly'] # can use multiple prompts (not tested)\n",
    "\n",
    "def calc(ex):\n",
    "    im = [x.convert(\"RGB\") for x in ex['image']] # necessary because my images are rgba\n",
    "    loss = sim_score(im, prompt, [1])\n",
    "    print(loss)\n",
    "    for i,l in enumerate(loss.cpu().numpy()):\n",
    "        ex['sim_score'][i]=l\n",
    "    return ex\n"
   ]
  },
  {
   "cell_type": "code",
   "execution_count": null,
   "id": "b2fbfcce-8114-4825-8d2d-3641c3176aa1",
   "metadata": {},
   "outputs": [],
   "source": [
    "dset_w_sim = dataset.map(calc,batched=True,batch_size=20)"
   ]
  },
  {
   "cell_type": "code",
   "execution_count": null,
   "id": "17f01c35-81db-4eeb-b58d-3f30cf19e277",
   "metadata": {},
   "outputs": [],
   "source": [
    "import matplotlib.pyplot as plt\n",
    "import numpy as np"
   ]
  },
  {
   "cell_type": "code",
   "execution_count": null,
   "id": "6dbfebf3-07f1-41fe-bcbf-688e1ed5de88",
   "metadata": {
    "colab": {
     "base_uri": "https://localhost:8080/",
     "height": 643
    },
    "id": "cLHMFnk-ZLce",
    "outputId": "9c93c4bb-89ee-43d0-8ec5-c0915c6ede45"
   },
   "outputs": [],
   "source": [
    "sorted = dset_w_sim.sort('sim_score')\n",
    "\n",
    "n_rows = 4\n",
    "fig, axs = plt.subplots(n_rows, n_rows, figsize=(9, 9))\n",
    "for i, ax in enumerate(axs.flatten()):\n",
    "  ax.imshow(np.array(sorted[i]['image']))\n",
    "plt.tight_layout()"
   ]
  },
  {
   "cell_type": "code",
   "execution_count": null,
   "id": "f71387c3-c8ae-4a57-813e-5fb2c0be8413",
   "metadata": {
    "colab": {
     "base_uri": "https://localhost:8080/",
     "height": 657
    },
    "id": "ZgJIvxm-cWjl",
    "outputId": "da487be6-65c4-4330-8ce2-39c4cabf1129"
   },
   "outputs": [],
   "source": [
    "# Compare to those with worst scores:\n",
    "n_rows = 4\n",
    "fig, axs = plt.subplots(n_rows, n_rows, figsize=(9, 9))\n",
    "for i, ax in enumerate(axs.flatten()):\n",
    "  ax.imshow(np.array(sorted[-(i+5)]['image']))\n",
    "plt.tight_layout()"
   ]
  },
  {
   "cell_type": "code",
   "execution_count": null,
   "id": "3b1d8ee7-8c04-40be-8982-8373cd5c4ded",
   "metadata": {
    "colab": {
     "base_uri": "https://localhost:8080/",
     "height": 637
    },
    "id": "WIldTsJdcjBY",
    "outputId": "4b6a336d-d498-4649-c9e8-1da7c767a1c5"
   },
   "outputs": [],
   "source": [
    "# How are we looking further down the list?\n",
    "offset=3000 # Pretty good at 5k\n",
    "n_rows = 4\n",
    "fig, axs = plt.subplots(n_rows, n_rows, figsize=(9, 9))\n",
    "for i, ax in enumerate(axs.flatten()):\n",
    "  ax.imshow(np.array(sorted[i+offset]['image']))\n",
    "plt.tight_layout()"
   ]
  },
  {
   "cell_type": "code",
   "execution_count": null,
   "id": "99591e21-8d7d-4301-8e72-b9edd854e184",
   "metadata": {
    "colab": {
     "base_uri": "https://localhost:8080/",
     "height": 657
    },
    "id": "um3e2s9gc72k",
    "outputId": "584d7d31-dbc5-4991-91f2-b67986b1344e"
   },
   "outputs": [],
   "source": [
    "# And even further?\n",
    "offset=2000 # Not quite so good - some caterpllars etc\n",
    "n_rows = 4\n",
    "fig, axs = plt.subplots(n_rows, n_rows, figsize=(9, 9))\n",
    "for i, ax in enumerate(axs.flatten()):\n",
    "  ax.imshow(np.array(sorted[i+offset]['image']))\n",
    "plt.tight_layout()"
   ]
  },
  {
   "cell_type": "code",
   "execution_count": null,
   "id": "e1d2fb2f-1c62-4ce0-8054-e4621533c330",
   "metadata": {
    "colab": {
     "base_uri": "https://localhost:8080/",
     "height": 67,
     "referenced_widgets": [
      "31329eb6c70d4c4e8894f6783e74fc56",
      "0b29bc4c5b704ee5bc177f1ab0ffbe63",
      "33c56cd88dbf491bb1ab556723cbb241",
      "f0f15abdba40499b93c62f9c29eb2f9c",
      "3e36915715bb478dbac8837fb2f46189",
      "9c41ea6026ed459ea01445f8938baf75",
      "1f8a8926fe2f4e2fae04147d9a7d4d83",
      "a8c1c39bc48e42b88e31d62a1cd937dc",
      "5b89504bab2947f68b375ff389ef0c06",
      "eb634f15406e4a7489bb5474d43f7d20",
      "d97070b02b5b48679397cdcc9d19f13b"
     ]
    },
    "id": "dnXElKstdFIe",
    "outputId": "5e45dffb-16d8-4c72-896d-1bd7900c285c"
   },
   "outputs": [],
   "source": [
    "# Let's grab the top ten (without changin order as we would if we did sorted[:10000])\n",
    "score_thresh = sorted[10000]['sim_score']\n",
    "filtered = dset_w_sim.filter(lambda x: x['sim_score'] < score_thresh)\n",
    "len(filtered)"
   ]
  },
  {
   "cell_type": "code",
   "execution_count": null,
   "id": "2580abd1-2934-4b62-a121-c11475ba1c95",
   "metadata": {
    "colab": {
     "base_uri": "https://localhost:8080/",
     "height": 331,
     "referenced_widgets": [
      "b05aba3422fb42fb8ef9486b13edcf0d",
      "66c12d45918a4ab89510e90092480f8d",
      "2eeb0271d9f94d06ae6740276b47262d",
      "5b1a4cd3e0e14c77980d08c48a5e595d",
      "21984fd7aa5c4c4a9112362e39991d05",
      "3a3e376879374a1aa71e0bba1ce543c1",
      "c7c8d41a59a642c0867ac561b401c059",
      "c6ef6de89e604f6ab9ccfc1f9cc1152e",
      "b022909231df4e988552a4ece11885ec",
      "610ca897b18a4c6e82b14897e89577e6",
      "81e7e3039e9644e2a75a861deb62b664",
      "7b2acab085074cb5880fa74144fa3a99",
      "7b1e1add7a11444b82ef9e7cfbcaf2e4",
      "9381d0a8584549e988d267fd06f9a02c",
      "502f00da21c94074bcaff7d11a7b3ef5",
      "99a1ce3a90c24e0984a0dc7d224b4dc0",
      "fc8317d522814afdaa30ebb5b7315d08"
     ]
    },
    "id": "dBsY_vFOmVya",
    "outputId": "98d7bb7c-779f-41ba-f483-640347280b61"
   },
   "outputs": [],
   "source": [
    "from huggingface_hub import notebook_login\n",
    "\n",
    "notebook_login()"
   ]
  },
  {
   "cell_type": "code",
   "execution_count": null,
   "id": "72334bb7-8a46-4260-af57-f0b356e4cf31",
   "metadata": {
    "colab": {
     "base_uri": "https://localhost:8080/",
     "height": 81,
     "referenced_widgets": [
      "f04f463c272e484396c7917e1a0880b6",
      "6760cc1cd90e466bbff07afb66ef1730",
      "c7ef6819053848fa9905f0008805b288",
      "4c2fcfab5c4f4af8833fea011db171af",
      "8fd733f86ce94e618ba5436bcf680e39",
      "cae435b413e54a2b87f8396a9cbbf2e7",
      "1422c734bd0d4f11a0d41a6a083a14b5",
      "98433a2fb9d2451290b71bb75ba6e76d",
      "19874435b3c54d64a36b266fce41e280",
      "0c9c0e5b040a46e692d0c2a2c51d2244",
      "bd18d89d940a40f8a714e0d1ba2e5dcb",
      "ff78624e62ad4c9eb6c9c2c2d60dc87d",
      "5b6246146ebb4ef886f2a641905644cf",
      "51fc50f7a7bf4fc286fc18f2190d6c48",
      "55cbd62a55b54addb1561eac74586cdc",
      "574551cf11f44b1a95635a03fd757164",
      "11b778c9187e4b08ab884a04fd3b080d",
      "7593f934e71841d38bca222a333c4fd2",
      "ae69834a3d474bd2bdeeb948e16c9bac",
      "aad4861df2324969aeaeb9da84c6f2d0",
      "3c065122c3f54474b485c515d9087a35",
      "425b40e92489440fb9cafb6b33867f12"
     ]
    },
    "id": "Myp12L0amt_E",
    "outputId": "2937f5a1-5964-488a-ddc4-1e841b162962"
   },
   "outputs": [],
   "source": [
    "dset_w_sim.push_to_hub('ceyda/smithsonian_butterflies_transparent')"
   ]
  },
  {
   "cell_type": "code",
   "execution_count": null,
   "id": "cb2acd6b-c367-45aa-b63e-eadc64e7eacb",
   "metadata": {
    "id": "0Czl9Tmbm3cO"
   },
   "outputs": [],
   "source": [
    "dset_w_sim[0]"
   ]
  }
 ],
 "metadata": {
  "kernelspec": {
   "display_name": "Python 3 (ipykernel)",
   "language": "python",
   "name": "python3"
  },
  "language_info": {
   "codemirror_mode": {
    "name": "ipython",
    "version": 3
   },
   "file_extension": ".py",
   "mimetype": "text/x-python",
   "name": "python",
   "nbconvert_exporter": "python",
   "pygments_lexer": "ipython3",
   "version": "3.8.12"
  }
 },
 "nbformat": 4,
 "nbformat_minor": 5
}
